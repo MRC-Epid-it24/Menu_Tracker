{
 "cells": [
  {
   "cell_type": "code",
   "execution_count": 1,
   "id": "922dabcf",
   "metadata": {},
   "outputs": [],
   "source": [
    "from datetime import date\n",
    "\n",
    "import requests\n",
    "import scrapy\n"
   ]
  },
  {
   "cell_type": "code",
   "execution_count": 3,
   "id": "186e77fe",
   "metadata": {},
   "outputs": [
    {
     "name": "stdout",
     "output_type": "stream",
     "text": [
      "['/en-GB/MenuNutrition/Menu/SubwaySeries', '/en-GB/MenuNutrition/Menu/SubMelts', '/en-GB/MenuNutrition/Menu/Sandwiches', '/en-GB/MenuNutrition/Menu/Signature-Wraps', '/en-GB/MenuNutrition/Menu/Salads', '/en-GB/MenuNutrition/Menu/The-Real-Deal-Sides', '/en-GB/MenuNutrition/Menu/SidesDrinksExtras', '/en-GB/MenuNutrition/Menu/Breakfast', '/en-GB/MenuNutrition/Menu/Kids']\n"
     ]
    }
   ],
   "source": [
    "from lxml import html\n",
    "\n",
    "# URL of the page to scrape\n",
    "url = 'https://www.subway.com/en-gb/menunutrition'\n",
    "\n",
    "# Fetch the webpage\n",
    "response = requests.get(url)\n",
    "\n",
    "# Parse the content with lxml\n",
    "tree = html.fromstring(response.content)\n",
    "\n",
    "# Apply the XPath expression\n",
    "categories = tree.xpath('//a[@class=\"menu-panel-class-main\"]/@href')\n",
    "\n",
    "# Print the extracted categories\n",
    "print(categories)"
   ]
  },
  {
   "cell_type": "code",
   "execution_count": 4,
   "id": "ab9954b7",
   "metadata": {},
   "outputs": [],
   "source": [
    "from scrapy.http import HtmlResponse"
   ]
  },
  {
   "cell_type": "code",
   "execution_count": null,
   "id": "b6d14bfe",
   "metadata": {},
   "outputs": [],
   "source": [
    "sel_response = HtmlResponse(url=self.driver.current_url,\n",
    "                            body=self.driver.page_source,\n",
    "                            encoding='utf-8')"
   ]
  }
 ],
 "metadata": {
  "kernelspec": {
   "display_name": "Python 3 (ipykernel)",
   "language": "python",
   "name": "python3"
  },
  "language_info": {
   "codemirror_mode": {
    "name": "ipython",
    "version": 3
   },
   "file_extension": ".py",
   "mimetype": "text/x-python",
   "name": "python",
   "nbconvert_exporter": "python",
   "pygments_lexer": "ipython3",
   "version": "3.9.13"
  }
 },
 "nbformat": 4,
 "nbformat_minor": 5
}
